{
 "cells": [
  {
   "cell_type": "markdown",
   "id": "2a580811-f818-4e34-87ac-b1cf7d7f1754",
   "metadata": {},
   "source": [
    "# Diffusion thermique dans une barre cylindrique\n",
    "\n",
    "Projet de 4 personnes\n",
    "\n",
    "Lorsqu’un matériau reçoit un transfert thermique, un courant thermique se propage dans le sens opposé au gradient de température selon la loi de Fourier $ \\vec{j}_{th} = -\\lambda \\vec{\\nabla} T$  où $\\lambda$ est la conductivité du matériau.\n",
    "Lorsque la diffusion thermique se fait selon la direction $(Ox)$, il en résulte l’équation de diffusion thermique : \n",
    "\n",
    "$$\n",
    "\\frac{\\partial T (x,t)}{\\partial t} = \\frac{\\lambda}{\\rho c} \\frac{\\partial^2 T(x, t)}{\\partial^2 x}\n",
    "$$\n",
    "\n",
    "où $\\frac{\\lambda}{\\rho c} = a$ représente la diffusivité thermique.\n",
    "\n",
    "## Modules utilisés\n",
    "- [matplotlib](https://matplotlib.org/)\n",
    "- [numpy](https://numpy.org/)\n",
    "\n",
    "\n",
    "## Fonctionnalités\n",
    "On souhaite pouvoir visualiser, grâce à un programme en Python, comment évolue au cours du temps la température d’une barre de longueur $L$ (en métal par exemple).\n",
    "Cette barre est un cylindre homogène d’axe de révolution $(Ox)$.\n",
    "La barre est initialement à la température $T_1$.\n",
    "A partir de la date $t=0$, on porte l’extrémité d’abscisse $x=0$ à la température $T_2$ (les conditions aux limites restent en permanence $T_2$ en $x=0$ et $T_1$ en $x=L$).\n",
    "On observe ensuite l’évolution de la température de la barre.\n",
    "La barre, sauf les extrémités, est calorifugée. \n",
    "\n",
    "Une animation devra permettre de visualiser l’évolution de la température avec un code couleur.\n",
    "\n",
    "Le programme devra également permettre de tracer l’évolution de la température en fonction de $x$ à des dates $t$ allant de $t=0$ à $t_{final}$=début du régime permanent (profil de température indépendant du temps $t$).\n",
    "Il devra terminer par le profil de température en régime permanent."
   ]
  }
 ],
 "metadata": {
  "kernelspec": {
   "display_name": "Python 3 (ipykernel)",
   "language": "python",
   "name": "python3"
  },
  "language_info": {
   "codemirror_mode": {
    "name": "ipython",
    "version": 3
   },
   "file_extension": ".py",
   "mimetype": "text/x-python",
   "name": "python",
   "nbconvert_exporter": "python",
   "pygments_lexer": "ipython3",
   "version": "3.12.3"
  }
 },
 "nbformat": 4,
 "nbformat_minor": 5
}
