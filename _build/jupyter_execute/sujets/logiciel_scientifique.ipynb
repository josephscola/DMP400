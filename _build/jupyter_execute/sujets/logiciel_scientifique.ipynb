{
 "cells": [
  {
   "cell_type": "markdown",
   "id": "77b4ea6e-696e-4a3e-a5bc-0c204bf430d5",
   "metadata": {},
   "source": [
    "# Edition d'un logiciel scientifique\n",
    "\n",
    "\tProjet de 4 personnes\n",
    "\t\n",
    "\tCoordination avec une équipe du GEMaC\n",
    "\t\n",
    "La [spectrométrie de masses d'ions secondaires](https://www.gemac.uvsq.fr/sims) est une technique d'analyse chimique basée sur la mesure de la masse des particules détectées.\n",
    "Plusieurs ions ou molécules chargées différentes peuvent avoir des masses si proches que la résolution de l'appareil ne permet pas de les déstinguer : le signal mesuré n'est plus représentatif de l'espèce ciblée parce qu'une autre est susceptible d'_interférer_.\n",
    "\n",
    "L'objectif est l'édition d'un logiciel scientifique représentant des \"spectres de masses\" offrant une série de fonctionnalités de contrôle de routine des interférences de masses.\n",
    "\n",
    "Ce projet concerne la seconde phase de développement de l'interface : des fonctionnalités sont déjà codées et le travail consistera optimiser les procédures, à concevoir une ergonomie en concertation avec l'experte du GEMaC et documenter le programme.\n",
    "\n",
    "## Modules utilisés\n",
    "- [tkinter](https://docs.python.org/3/library/tkinter.html) interface graphique\n",
    "- [mendeleev](https://mendeleev.readthedocs.io/en/stable/) tables des propriétés des éléments\n",
    "\n",
    "## Paramètres d'entrée \n",
    "- fichiers de données au format du constructeur CAMECA\n",
    "\n",
    "## Fonctionnalités\n",
    "- lecture / affichage de spectres de masses \n",
    "- affichage d'abondances isotopiques naturelles\n",
    "- simulation d'interférences de masses\n",
    "- génération d'un exécutable Windows\n",
    "\n",
    "## Complément\n",
    "- visite de l'équipement du GEMaC\n",
    "- entretien avec des expertes de la technique"
   ]
  }
 ],
 "metadata": {
  "kernelspec": {
   "display_name": "Python 3 (ipykernel)",
   "language": "python",
   "name": "python3"
  },
  "language_info": {
   "codemirror_mode": {
    "name": "ipython",
    "version": 3
   },
   "file_extension": ".py",
   "mimetype": "text/x-python",
   "name": "python",
   "nbconvert_exporter": "python",
   "pygments_lexer": "ipython3",
   "version": "3.12.3"
  }
 },
 "nbformat": 4,
 "nbformat_minor": 5
}